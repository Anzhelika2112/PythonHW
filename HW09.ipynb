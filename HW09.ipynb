{
  "cells": [
    {
      "cell_type": "markdown",
      "metadata": {
        "id": "NakcBDXhxmpo"
      },
      "source": [
        "# Работа с табличными данными\n",
        "\n",
        "**Задача 40**: Работать с файлом california_housing_train.csv, который находится в папке sample_data. Определить среднюю стоимость дома, где кол-во людей от 0 до 500 (population).\n",
        "\n",
        "**Задача 42**: Узнать какая максимальная households в зоне минимального значения population."
      ]
    },
    {
      "cell_type": "code",
      "execution_count": 1,
      "metadata": {
        "id": "mTTXJqcvxXDn"
      },
      "outputs": [],
      "source": [
        "import pandas as pd"
      ]
    },
    {
      "cell_type": "code",
      "execution_count": 6,
      "metadata": {
        "id": "Zc-kArgex5po"
      },
      "outputs": [],
      "source": [
        "df = pd.read_csv('sample_data/california_housing_train.csv')"
      ]
    },
    {
      "cell_type": "markdown",
      "metadata": {
        "id": "iJogbzn7yH3L"
      },
      "source": [
        "- Определить среднюю стоимость дома, где кол-во людей от 0 до 500 (population)."
      ]
    },
    {
      "cell_type": "code",
      "execution_count": 10,
      "metadata": {
        "colab": {
          "base_uri": "https://localhost:8080/"
        },
        "id": "inYNDlnmyGT0",
        "outputId": "a224aea6-9f7f-41a3-8dd0-61f7a98596d0"
      },
      "outputs": [
        {
          "data": {
            "text/plain": [
              "206683.83635227982"
            ]
          },
          "execution_count": 10,
          "metadata": {},
          "output_type": "execute_result"
        }
      ],
      "source": [
        "df[(df['population'] > 0) & (df['population']< 500)]['median_house_value'].mean()"
      ]
    },
    {
      "cell_type": "markdown",
      "metadata": {
        "id": "Uzh2PiRn0e3v"
      },
      "source": [
        "- Узнать какая максимальная households в зоне минимального значения population.\n"
      ]
    },
    {
      "cell_type": "code",
      "execution_count": 11,
      "metadata": {
        "colab": {
          "base_uri": "https://localhost:8080/"
        },
        "id": "mmxha2mt0iqU",
        "outputId": "047182fa-afea-4b8c-c7f8-5263afc278d2"
      },
      "outputs": [
        {
          "data": {
            "text/plain": [
              "4.0"
            ]
          },
          "execution_count": 11,
          "metadata": {},
          "output_type": "execute_result"
        }
      ],
      "source": [
        "df[df['population'] == df['population'].min()]['households'].max()"
      ]
    }
  ],
  "metadata": {
    "colab": {
      "provenance": []
    },
    "kernelspec": {
      "display_name": "Python 3",
      "name": "python3"
    },
    "language_info": {
      "name": "python"
    }
  },
  "nbformat": 4,
  "nbformat_minor": 0
}
